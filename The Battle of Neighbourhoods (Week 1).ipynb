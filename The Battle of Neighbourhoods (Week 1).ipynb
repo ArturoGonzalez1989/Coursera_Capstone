{
 "cells": [
  {
   "cell_type": "markdown",
   "metadata": {},
   "source": [
    "<h1>The Battle of Neighbourhoods (Week 1)</h1>"
   ]
  },
  {
   "cell_type": "markdown",
   "metadata": {},
   "source": [
    "### Introduction and description of the problem"
   ]
  },
  {
   "cell_type": "markdown",
   "metadata": {},
   "source": [
    "<p>\n",
    "The objective of this project is to help entrepreneurs in the city of Madrid (Capital of Spain) to find the best neighborhood to open a business depending on what type of businesses are the most frequent in each neighborhood.\n",
    "</p>\n",
    "<p>\n",
    "In this case I will follow the example proposed by the problem statement: if someone is looking to open a restaurant, where would you recommend that they open it?\n",
    "</p>"
   ]
  },
  {
   "cell_type": "markdown",
   "metadata": {},
   "source": [
    "### Data\n",
    "\n",
    "The data will be obtained from the URL https://es.wikipedia.org/wiki/Anexo:Distritos_de_Madrid, corresponding to the information on districts and inhabitants of the city of Madrid. This information is taken from Wikipedia."
   ]
  },
  {
   "cell_type": "markdown",
   "metadata": {},
   "source": [
    "### Steps to follow\n",
    "<ul>\n",
    "<li>The necessary libraries will be loaded for the execution of the project.</li>\n",
    "<li>The https://es.wikipedia.org/wiki/Anexo:Distritos_de_Madrid data will be obtained and transformed.</li>\n",
    "<li>Obtain the coordinate data for each neighborhood in Madrid.</li>\n",
    "<li>Get the top 100 venues that are in all the neighborhoods in Madrid from Foursquare.</li>\n",
    "<li>Analyze Each Neighborhood and extract the top 3 most common venues.</li>\n",
    "</ul>"
   ]
  },
  {
   "cell_type": "markdown",
   "metadata": {},
   "source": [
    "### Final objective:\n",
    "Recommend to the entrepreneurs of the city of Madrid that they want to start a restaurant business of typical Spanish food."
   ]
  }
 ],
 "metadata": {
  "kernelspec": {
   "display_name": "Python",
   "language": "python",
   "name": "conda-env-python-py"
  },
  "language_info": {
   "codemirror_mode": {
    "name": "ipython",
    "version": 3
   },
   "file_extension": ".py",
   "mimetype": "text/x-python",
   "name": "python",
   "nbconvert_exporter": "python",
   "pygments_lexer": "ipython3",
   "version": "3.6.11"
  }
 },
 "nbformat": 4,
 "nbformat_minor": 4
}
